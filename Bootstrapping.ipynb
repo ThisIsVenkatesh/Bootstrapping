{
 "cells": [
  {
   "cell_type": "markdown",
   "metadata": {
    "toc": true
   },
   "source": [
    "<h1>Table of Contents<span class=\"tocSkip\"></span></h1>\n",
    "<div class=\"toc\"><ul class=\"toc-item\"><li><span><a href=\"#Empirical-bootstrap-based-Confidence-Interval\" data-toc-modified-id=\"Empirical-bootstrap-based-Confidence-Interval-1\">Empirical bootstrap based Confidence Interval</a></span></li></ul></div>"
   ]
  },
  {
   "cell_type": "markdown",
   "metadata": {
    "colab_type": "text",
    "id": "fct-NTjcYNZ0"
   },
   "source": [
    "# Empirical bootstrap based Confidence Interval"
   ]
  },
  {
   "cell_type": "code",
   "execution_count": 1,
   "metadata": {
    "colab": {},
    "colab_type": "code",
    "id": "1Z7NCqEcYNZ4",
    "outputId": "04b1a8a4-89e4-4edb-cc7b-504947fc3116"
   },
   "outputs": [
    {
     "data": {
      "text/plain": [
       "30.225147535811566"
      ]
     },
     "execution_count": 1,
     "metadata": {},
     "output_type": "execute_result"
    }
   ],
   "source": [
    "import numpy as np\n",
    "from matplotlib import pyplot\n",
    "\n",
    "population_ = np.random.normal(30,10,1500)\n",
    "np.mean(population_)"
   ]
  },
  {
   "cell_type": "code",
   "execution_count": 2,
   "metadata": {
    "colab": {},
    "colab_type": "code",
    "id": "1Z7NCqEcYNZ4",
    "outputId": "04b1a8a4-89e4-4edb-cc7b-504947fc3116"
   },
   "outputs": [
    {
     "data": {
      "image/png": "[encoded data removed]",
      "text/plain": [
       "<Figure size 432x288 with 1 Axes>"
      ]
     },
     "metadata": {},
     "output_type": "display_data"
    },
    {
     "name": "stdout",
     "output_type": "stream",
     "text": [
      "90.0 confidence interval for population mean is 29.2 and 31.9\n"
     ]
    }
   ],
   "source": [
    "sample_ = np.random.choice(population_,150,replace=False) # taken 10 % of the population with out replacement\n",
    "\n",
    "# configure bootstrap\n",
    "n_iterations = 1000 #it should be large (typically 1,000 or 10,000 times)\n",
    "n_size = int(len(sample_))\n",
    "\n",
    "# run bootstrap\n",
    "bootstrap_mean_estimates = list()\n",
    "for i in range(n_iterations):\n",
    "    #Bootstrap sample\n",
    "    s = np.random.choice(sample_, size=n_size);\n",
    "    m = np.mean(s);\n",
    "    bootstrap_mean_estimates.append(m)\n",
    "\n",
    "# plot scores\n",
    "pyplot.hist(bootstrap_mean_estimates)\n",
    "pyplot.show()\n",
    "\n",
    "# confidence intervals\n",
    "alpha = 0.90\n",
    "p = ((1.0-alpha)/2.0) * 100\n",
    "lower =  np.percentile(bootstrap_mean_estimates, p)\n",
    "\n",
    "p = (alpha+((1.0-alpha)/2.0)) * 100\n",
    "upper =  np.percentile(bootstrap_mean_estimates, p)\n",
    "print('%.1f confidence interval for population mean is %.1f and %.1f' % (alpha*100, lower, upper))"
   ]
  },
  {
   "cell_type": "code",
   "execution_count": null,
   "metadata": {
    "colab": {},
    "colab_type": "code",
    "id": "0GdCL0KzYNZ_"
   },
   "outputs": [],
   "source": []
  }
 ],
 "metadata": {
  "colab": {
   "name": "12.23.ipynb",
   "provenance": [],
   "version": "0.3.2"
  },
  "kernelspec": {
   "display_name": "Python 3",
   "language": "python",
   "name": "python3"
  },
  "language_info": {
   "codemirror_mode": {
    "name": "ipython",
    "version": 3
   },
   "file_extension": ".py",
   "mimetype": "text/x-python",
   "name": "python",
   "nbconvert_exporter": "python",
   "pygments_lexer": "ipython3",
   "version": "3.6.5"
  },
  "nteract": {
   "version": "0.15.0"
  },
  "toc": {
   "base_numbering": 1,
   "nav_menu": {},
   "number_sections": false,
   "sideBar": true,
   "skip_h1_title": false,
   "title_cell": "Table of Contents",
   "title_sidebar": "Contents",
   "toc_cell": true,
   "toc_position": {},
   "toc_section_display": true,
   "toc_window_display": true
  }
 },
 "nbformat": 4,
 "nbformat_minor": 1
}
